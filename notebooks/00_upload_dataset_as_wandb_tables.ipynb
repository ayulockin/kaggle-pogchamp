{
 "cells": [
  {
   "cell_type": "code",
   "execution_count": 21,
   "id": "4c2fb470",
   "metadata": {},
   "outputs": [],
   "source": [
    "import os\n",
    "import numpy as np\n",
    "import pandas as pd\n",
    "from tqdm import tqdm\n",
    "\n",
    "import wandb"
   ]
  },
  {
   "cell_type": "code",
   "execution_count": 7,
   "id": "89f0acd3",
   "metadata": {},
   "outputs": [
    {
     "data": {
      "text/plain": [
       "True"
      ]
     },
     "execution_count": 7,
     "metadata": {},
     "output_type": "execute_result"
    }
   ],
   "source": [
    "DATA_PATH = \"../../corn\"\n",
    "os.path.isdir(DATA_PATH)"
   ]
  },
  {
   "cell_type": "code",
   "execution_count": 8,
   "id": "952d2048",
   "metadata": {},
   "outputs": [
    {
     "data": {
      "text/html": [
       "<div>\n",
       "<style scoped>\n",
       "    .dataframe tbody tr th:only-of-type {\n",
       "        vertical-align: middle;\n",
       "    }\n",
       "\n",
       "    .dataframe tbody tr th {\n",
       "        vertical-align: top;\n",
       "    }\n",
       "\n",
       "    .dataframe thead th {\n",
       "        text-align: right;\n",
       "    }\n",
       "</style>\n",
       "<table border=\"1\" class=\"dataframe\">\n",
       "  <thead>\n",
       "    <tr style=\"text-align: right;\">\n",
       "      <th></th>\n",
       "      <th>seed_id</th>\n",
       "      <th>view</th>\n",
       "      <th>image</th>\n",
       "      <th>label</th>\n",
       "    </tr>\n",
       "  </thead>\n",
       "  <tbody>\n",
       "    <tr>\n",
       "      <th>0</th>\n",
       "      <td>0</td>\n",
       "      <td>top</td>\n",
       "      <td>train/00000.png</td>\n",
       "      <td>broken</td>\n",
       "    </tr>\n",
       "    <tr>\n",
       "      <th>1</th>\n",
       "      <td>1</td>\n",
       "      <td>bottom</td>\n",
       "      <td>train/00001.png</td>\n",
       "      <td>pure</td>\n",
       "    </tr>\n",
       "    <tr>\n",
       "      <th>2</th>\n",
       "      <td>3</td>\n",
       "      <td>top</td>\n",
       "      <td>train/00003.png</td>\n",
       "      <td>broken</td>\n",
       "    </tr>\n",
       "    <tr>\n",
       "      <th>3</th>\n",
       "      <td>4</td>\n",
       "      <td>top</td>\n",
       "      <td>train/00004.png</td>\n",
       "      <td>pure</td>\n",
       "    </tr>\n",
       "    <tr>\n",
       "      <th>4</th>\n",
       "      <td>5</td>\n",
       "      <td>top</td>\n",
       "      <td>train/00005.png</td>\n",
       "      <td>discolored</td>\n",
       "    </tr>\n",
       "  </tbody>\n",
       "</table>\n",
       "</div>"
      ],
      "text/plain": [
       "   seed_id    view            image       label\n",
       "0        0     top  train/00000.png      broken\n",
       "1        1  bottom  train/00001.png        pure\n",
       "2        3     top  train/00003.png      broken\n",
       "3        4     top  train/00004.png        pure\n",
       "4        5     top  train/00005.png  discolored"
      ]
     },
     "execution_count": 8,
     "metadata": {},
     "output_type": "execute_result"
    }
   ],
   "source": [
    "train_df = pd.read_csv(f\"{DATA_PATH}/train.csv\")\n",
    "train_df.head()"
   ]
  },
  {
   "cell_type": "code",
   "execution_count": 9,
   "id": "c95640e8",
   "metadata": {},
   "outputs": [
    {
     "data": {
      "text/plain": [
       "14322"
      ]
     },
     "execution_count": 9,
     "metadata": {},
     "output_type": "execute_result"
    }
   ],
   "source": [
    "len(train_df)"
   ]
  },
  {
   "cell_type": "code",
   "execution_count": 10,
   "id": "e83e35b8",
   "metadata": {},
   "outputs": [
    {
     "data": {
      "text/plain": [
       "pure          5837\n",
       "broken        4554\n",
       "discolored    2504\n",
       "silkcut       1427\n",
       "Name: label, dtype: int64"
      ]
     },
     "execution_count": 10,
     "metadata": {},
     "output_type": "execute_result"
    }
   ],
   "source": [
    "train_df.label.value_counts()"
   ]
  },
  {
   "cell_type": "code",
   "execution_count": 11,
   "id": "e94a0f7b",
   "metadata": {},
   "outputs": [
    {
     "data": {
      "text/html": [
       "<div>\n",
       "<style scoped>\n",
       "    .dataframe tbody tr th:only-of-type {\n",
       "        vertical-align: middle;\n",
       "    }\n",
       "\n",
       "    .dataframe tbody tr th {\n",
       "        vertical-align: top;\n",
       "    }\n",
       "\n",
       "    .dataframe thead th {\n",
       "        text-align: right;\n",
       "    }\n",
       "</style>\n",
       "<table border=\"1\" class=\"dataframe\">\n",
       "  <thead>\n",
       "    <tr style=\"text-align: right;\">\n",
       "      <th></th>\n",
       "      <th>seed_id</th>\n",
       "      <th>view</th>\n",
       "      <th>image</th>\n",
       "    </tr>\n",
       "  </thead>\n",
       "  <tbody>\n",
       "    <tr>\n",
       "      <th>0</th>\n",
       "      <td>2</td>\n",
       "      <td>top</td>\n",
       "      <td>test/00002.png</td>\n",
       "    </tr>\n",
       "    <tr>\n",
       "      <th>1</th>\n",
       "      <td>11</td>\n",
       "      <td>bottom</td>\n",
       "      <td>test/00011.png</td>\n",
       "    </tr>\n",
       "    <tr>\n",
       "      <th>2</th>\n",
       "      <td>13</td>\n",
       "      <td>top</td>\n",
       "      <td>test/00013.png</td>\n",
       "    </tr>\n",
       "    <tr>\n",
       "      <th>3</th>\n",
       "      <td>19</td>\n",
       "      <td>bottom</td>\n",
       "      <td>test/00019.png</td>\n",
       "    </tr>\n",
       "    <tr>\n",
       "      <th>4</th>\n",
       "      <td>27</td>\n",
       "      <td>bottom</td>\n",
       "      <td>test/00027.png</td>\n",
       "    </tr>\n",
       "  </tbody>\n",
       "</table>\n",
       "</div>"
      ],
      "text/plain": [
       "   seed_id    view           image\n",
       "0        2     top  test/00002.png\n",
       "1       11  bottom  test/00011.png\n",
       "2       13     top  test/00013.png\n",
       "3       19  bottom  test/00019.png\n",
       "4       27  bottom  test/00027.png"
      ]
     },
     "execution_count": 11,
     "metadata": {},
     "output_type": "execute_result"
    }
   ],
   "source": [
    "test_df = pd.read_csv(f\"{DATA_PATH}/test.csv\")\n",
    "test_df.head()"
   ]
  },
  {
   "cell_type": "markdown",
   "id": "b87505f8",
   "metadata": {},
   "source": [
    "## Utility"
   ]
  },
  {
   "cell_type": "code",
   "execution_count": 31,
   "id": "b3eb0e42",
   "metadata": {},
   "outputs": [],
   "source": [
    "def log_data_as_table(df, data_type=\"train\"):\n",
    "    data_artifact = wandb.Artifact(name=data_type, type=\"dataset\")\n",
    "    \n",
    "    columns = list(df.columns)\n",
    "    data_at = wandb.Table(columns=columns)\n",
    "\n",
    "    for row, tmp_df in tqdm(df.iterrows()):\n",
    "        data = (\n",
    "            tmp_df.seed_id,\n",
    "            tmp_df.view,\n",
    "            wandb.Image(f\"{DATA_PATH}/{tmp_df.image}\", mode=\"RGB\"),\n",
    "        )\n",
    "        if data_type == \"train\":\n",
    "            data += (tmp_df.label, )\n",
    "        \n",
    "        data_at.add_data(*data)\n",
    "\n",
    "    # Store the table as artifact.\n",
    "    data_artifact.add(data_at, f\"{data_type}-table\")\n",
    "    # Now we will log the artifact to W&B.\n",
    "    wandb.log_artifact(data_artifact)"
   ]
  },
  {
   "cell_type": "markdown",
   "id": "68f93847",
   "metadata": {},
   "source": [
    "## Log the data as W&B Tables"
   ]
  },
  {
   "cell_type": "code",
   "execution_count": null,
   "id": "e7e35794",
   "metadata": {},
   "outputs": [
    {
     "data": {
      "text/html": [
       "Tracking run with wandb version 0.13.3"
      ],
      "text/plain": [
       "<IPython.core.display.HTML object>"
      ]
     },
     "metadata": {},
     "output_type": "display_data"
    },
    {
     "data": {
      "text/html": [
       "Run data is saved locally in <code>/home/ayushthakur/pogchamp/kaggle-pogchamp/notebooks/wandb/run-20220929_200438-o9l9p5ze</code>"
      ],
      "text/plain": [
       "<IPython.core.display.HTML object>"
      ]
     },
     "metadata": {},
     "output_type": "display_data"
    },
    {
     "data": {
      "text/html": [
       "Syncing run <strong><a href=\"https://wandb.ai/ayush-thakur/pogchamp/runs/o9l9p5ze\" target=\"_blank\">polar-eon-2</a></strong> to <a href=\"https://wandb.ai/ayush-thakur/pogchamp\" target=\"_blank\">Weights & Biases</a> (<a href=\"https://wandb.me/run\" target=\"_blank\">docs</a>)<br/>"
      ],
      "text/plain": [
       "<IPython.core.display.HTML object>"
      ]
     },
     "metadata": {},
     "output_type": "display_data"
    },
    {
     "name": "stderr",
     "output_type": "stream",
     "text": [
      "14322it [00:15, 953.27it/s]\n"
     ]
    },
    {
     "data": {
      "text/html": [
       "Waiting for W&B process to finish... <strong style=\"color:green\">(success).</strong>"
      ],
      "text/plain": [
       "<IPython.core.display.HTML object>"
      ]
     },
     "metadata": {},
     "output_type": "display_data"
    }
   ],
   "source": [
    "# Train data\n",
    "\n",
    "run = wandb.init(\n",
    "    project=\"pogchamp\",\n",
    "    job_type='upload',\n",
    ")\n",
    "\n",
    "log_data_as_table(train_df)\n",
    "\n",
    "run.finish()"
   ]
  },
  {
   "cell_type": "code",
   "execution_count": null,
   "id": "07077f34",
   "metadata": {},
   "outputs": [],
   "source": [
    "# Test data\n",
    "\n",
    "run = wandb.init(\n",
    "    project=\"pogchamp\",\n",
    "    job_type='upload',\n",
    ")\n",
    "\n",
    "log_data_as_table(test_ds, data_type=\"test\")\n",
    "\n",
    "run.finish()"
   ]
  },
  {
   "cell_type": "code",
   "execution_count": null,
   "id": "1bbdb0f9",
   "metadata": {},
   "outputs": [],
   "source": []
  }
 ],
 "metadata": {
  "kernelspec": {
   "display_name": "Python 3",
   "language": "python",
   "name": "python3"
  },
  "language_info": {
   "codemirror_mode": {
    "name": "ipython",
    "version": 3
   },
   "file_extension": ".py",
   "mimetype": "text/x-python",
   "name": "python",
   "nbconvert_exporter": "python",
   "pygments_lexer": "ipython3",
   "version": "3.7.12"
  }
 },
 "nbformat": 4,
 "nbformat_minor": 5
}
