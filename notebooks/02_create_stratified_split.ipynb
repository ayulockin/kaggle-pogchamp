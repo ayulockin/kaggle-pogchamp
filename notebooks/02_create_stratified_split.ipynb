{
 "cells": [
  {
   "cell_type": "code",
   "execution_count": 18,
   "id": "3922c224",
   "metadata": {},
   "outputs": [],
   "source": [
    "import os\n",
    "import numpy as np\n",
    "import pandas as pd\n",
    "from tqdm import tqdm\n",
    "import matplotlib.pyplot as plt\n",
    "from sklearn.model_selection import train_test_split"
   ]
  },
  {
   "cell_type": "code",
   "execution_count": 2,
   "id": "caac710b",
   "metadata": {},
   "outputs": [
    {
     "data": {
      "text/plain": [
       "True"
      ]
     },
     "execution_count": 2,
     "metadata": {},
     "output_type": "execute_result"
    }
   ],
   "source": [
    "DATA_PATH = \"../../corn\"\n",
    "os.path.isdir(DATA_PATH)"
   ]
  },
  {
   "cell_type": "code",
   "execution_count": 5,
   "id": "82bc8778",
   "metadata": {},
   "outputs": [
    {
     "data": {
      "text/html": [
       "<div>\n",
       "<style scoped>\n",
       "    .dataframe tbody tr th:only-of-type {\n",
       "        vertical-align: middle;\n",
       "    }\n",
       "\n",
       "    .dataframe tbody tr th {\n",
       "        vertical-align: top;\n",
       "    }\n",
       "\n",
       "    .dataframe thead th {\n",
       "        text-align: right;\n",
       "    }\n",
       "</style>\n",
       "<table border=\"1\" class=\"dataframe\">\n",
       "  <thead>\n",
       "    <tr style=\"text-align: right;\">\n",
       "      <th></th>\n",
       "      <th>seed_id</th>\n",
       "      <th>view</th>\n",
       "      <th>image</th>\n",
       "      <th>label</th>\n",
       "    </tr>\n",
       "  </thead>\n",
       "  <tbody>\n",
       "    <tr>\n",
       "      <th>0</th>\n",
       "      <td>0</td>\n",
       "      <td>top</td>\n",
       "      <td>train/00000.png</td>\n",
       "      <td>broken</td>\n",
       "    </tr>\n",
       "    <tr>\n",
       "      <th>1</th>\n",
       "      <td>1</td>\n",
       "      <td>bottom</td>\n",
       "      <td>train/00001.png</td>\n",
       "      <td>pure</td>\n",
       "    </tr>\n",
       "    <tr>\n",
       "      <th>2</th>\n",
       "      <td>3</td>\n",
       "      <td>top</td>\n",
       "      <td>train/00003.png</td>\n",
       "      <td>broken</td>\n",
       "    </tr>\n",
       "    <tr>\n",
       "      <th>3</th>\n",
       "      <td>4</td>\n",
       "      <td>top</td>\n",
       "      <td>train/00004.png</td>\n",
       "      <td>pure</td>\n",
       "    </tr>\n",
       "    <tr>\n",
       "      <th>4</th>\n",
       "      <td>5</td>\n",
       "      <td>top</td>\n",
       "      <td>train/00005.png</td>\n",
       "      <td>discolored</td>\n",
       "    </tr>\n",
       "  </tbody>\n",
       "</table>\n",
       "</div>"
      ],
      "text/plain": [
       "   seed_id    view            image       label\n",
       "0        0     top  train/00000.png      broken\n",
       "1        1  bottom  train/00001.png        pure\n",
       "2        3     top  train/00003.png      broken\n",
       "3        4     top  train/00004.png        pure\n",
       "4        5     top  train/00005.png  discolored"
      ]
     },
     "execution_count": 5,
     "metadata": {},
     "output_type": "execute_result"
    }
   ],
   "source": [
    "df = pd.read_csv(f\"{DATA_PATH}/train.csv\")\n",
    "df.head()"
   ]
  },
  {
   "cell_type": "code",
   "execution_count": 13,
   "id": "1595a69d",
   "metadata": {},
   "outputs": [],
   "source": [
    "train_df, valid_df = train_test_split(\n",
    "    df,\n",
    "    test_size=0.25,\n",
    "    random_state=42,\n",
    "    stratify=df.label.values)"
   ]
  },
  {
   "cell_type": "code",
   "execution_count": 14,
   "id": "9a8ef90b",
   "metadata": {},
   "outputs": [
    {
     "data": {
      "text/plain": [
       "(10741, 4)"
      ]
     },
     "execution_count": 14,
     "metadata": {},
     "output_type": "execute_result"
    }
   ],
   "source": [
    "train_df.shape"
   ]
  },
  {
   "cell_type": "code",
   "execution_count": 15,
   "id": "4a92c942",
   "metadata": {},
   "outputs": [
    {
     "data": {
      "text/plain": [
       "(3581, 4)"
      ]
     },
     "execution_count": 15,
     "metadata": {},
     "output_type": "execute_result"
    }
   ],
   "source": [
    "valid_df.shape"
   ]
  },
  {
   "cell_type": "code",
   "execution_count": 16,
   "id": "cf0004b0",
   "metadata": {},
   "outputs": [
    {
     "data": {
      "text/plain": [
       "pure          4378\n",
       "broken        3415\n",
       "discolored    1878\n",
       "silkcut       1070\n",
       "Name: label, dtype: int64"
      ]
     },
     "execution_count": 16,
     "metadata": {},
     "output_type": "execute_result"
    }
   ],
   "source": [
    "train_df.label.value_counts()"
   ]
  },
  {
   "cell_type": "code",
   "execution_count": 17,
   "id": "356a973e",
   "metadata": {},
   "outputs": [
    {
     "data": {
      "text/plain": [
       "pure          1459\n",
       "broken        1139\n",
       "discolored     626\n",
       "silkcut        357\n",
       "Name: label, dtype: int64"
      ]
     },
     "execution_count": 17,
     "metadata": {},
     "output_type": "execute_result"
    }
   ],
   "source": [
    "valid_df.label.value_counts()"
   ]
  },
  {
   "cell_type": "code",
   "execution_count": 20,
   "id": "d61488bf",
   "metadata": {},
   "outputs": [
    {
     "name": "stdout",
     "output_type": "stream",
     "text": [
      "The unique labels are: ['broken' 'discolored' 'pure' 'silkcut'] and there values are: [3415 1878 4378 1070]\n"
     ]
    },
    {
     "data": {
      "image/png": "[encoded data removed]",
      "text/plain": [
       "<Figure size 1500x500 with 1 Axes>"
      ]
     },
     "metadata": {},
     "output_type": "display_data"
    }
   ],
   "source": [
    "labels, counts = np.unique(train_df.label.values, return_counts=True)\n",
    "print(f'The unique labels are: {labels} and there values are: {counts}')\n",
    "\n",
    "plt.figure(figsize=(15,5))\n",
    "plt.bar(labels, counts)\n",
    "\n",
    "for index, value in enumerate(counts):\n",
    "    plt.text(index-0.25, value, str(value), fontdict=dict(fontsize=10))\n",
    "\n",
    "plt.show()"
   ]
  },
  {
   "cell_type": "code",
   "execution_count": 21,
   "id": "79d3844d",
   "metadata": {},
   "outputs": [
    {
     "name": "stdout",
     "output_type": "stream",
     "text": [
      "The unique labels are: ['broken' 'discolored' 'pure' 'silkcut'] and there values are: [1139  626 1459  357]\n"
     ]
    },
    {
     "data": {
      "image/png": "[encoded data removed]",
      "text/plain": [
       "<Figure size 1500x500 with 1 Axes>"
      ]
     },
     "metadata": {},
     "output_type": "display_data"
    }
   ],
   "source": [
    "labels, counts = np.unique(valid_df.label.values, return_counts=True)\n",
    "print(f'The unique labels are: {labels} and there values are: {counts}')\n",
    "\n",
    "plt.figure(figsize=(15,5))\n",
    "plt.bar(labels, counts)\n",
    "\n",
    "for index, value in enumerate(counts):\n",
    "    plt.text(index-0.25, value, str(value), fontdict=dict(fontsize=10))\n",
    "\n",
    "plt.show()"
   ]
  },
  {
   "cell_type": "code",
   "execution_count": 23,
   "id": "1bd417bd",
   "metadata": {},
   "outputs": [],
   "source": [
    "train_df.to_csv(\"../../corn/train_split.csv\", index=False)\n",
    "valid_df.to_csv(\"../../corn/valid_split.csv\", index=False)"
   ]
  },
  {
   "cell_type": "code",
   "execution_count": null,
   "id": "2faffe52",
   "metadata": {},
   "outputs": [],
   "source": []
  }
 ],
 "metadata": {
  "kernelspec": {
   "display_name": "Python 3",
   "language": "python",
   "name": "python3"
  },
  "language_info": {
   "codemirror_mode": {
    "name": "ipython",
    "version": 3
   },
   "file_extension": ".py",
   "mimetype": "text/x-python",
   "name": "python",
   "nbconvert_exporter": "python",
   "pygments_lexer": "ipython3",
   "version": "3.7.12"
  }
 },
 "nbformat": 4,
 "nbformat_minor": 5
}
